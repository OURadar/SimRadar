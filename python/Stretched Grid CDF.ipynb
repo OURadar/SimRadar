{
 "cells": [
  {
   "cell_type": "code",
   "execution_count": 1,
   "metadata": {
    "collapsed": true
   },
   "outputs": [],
   "source": [
    "%matplotlib inline"
   ]
  },
  {
   "cell_type": "code",
   "execution_count": 2,
   "metadata": {
    "collapsed": true
   },
   "outputs": [],
   "source": [
    "import matplotlib\n",
    "import matplotlib.pyplot as plt\n",
    "import numpy as np"
   ]
  },
  {
   "cell_type": "markdown",
   "metadata": {},
   "source": [
    "# Basic idea:\n",
    "\n",
    "Spacing as a geometric series:\n",
    "\n",
    "    dx = a * r ^ 1.05\n",
    "\n",
    "Position is a cumulative sum of the series:\n",
    "\n",
    "    x[k] = a * (1 - r ^ k) / (1 - r)\n",
    "\n",
    "\n",
    "Reverse lookup:\n",
    "\n",
    "    k = 1 / log(r) * log(1 - (1 - r) / a * z[k])\n",
    "      = 1 / log(r) * log(1 + (r - 1) / a * z[k])\n",
    "\n",
    "NOTE: We can use the math function `log1p()` in OpenCL"
   ]
  },
  {
   "cell_type": "code",
   "execution_count": 20,
   "metadata": {
    "collapsed": true
   },
   "outputs": [],
   "source": [
    "# Stretched grid with a = 2.0, r = 1.0212\n",
    "a = 2.0\n",
    "r = 1.0212\n",
    "\n",
    "#\n",
    "# RS_set_vel_data_to_LES_table() ...\n",
    "# ...\n",
    "# table.spacing = RSTableSpacingStretchedX | RSTableSpacingStretchedY | RSTableSpacingStretchedZ;\n",
    "# table.x_ = leslie->nx;    table.xm = 0.5f * (float)(leslie->nx - 1);    table.xs = 1.0f / log(leslie->rx);    table.xo = (leslie->rx - 1.0f) / leslie->ax;\n",
    "# table.y_ = leslie->ny;    table.ym = 0.5f * (float)(leslie->ny - 1);    table.ys = 1.0f / log(leslie->ry);    table.yo = (leslie->ry - 1.0f) / leslie->ay;\n",
    "# table.z_ = leslie->nz;    table.zm = 0.0f;                              table.zs = 1.0f / log(leslie->rz);    table.zo = (leslie->rz - 1.0f) / leslie->az;\n",
    "#\n",
    "#\n",
    "# RS_set_vel_data() ...\n",
    "# ...\n",
    "# H->workers[i].les_desc.s[RSTable3DStaggeredDescriptionBaseChangeX] = table.xs;      // \"m\" for stretched grid: m * log1p(n * pos.x) + o;\n",
    "# H->workers[i].les_desc.s[RSTable3DStaggeredDescriptionPositionScaleX] = table.xo;   // \"n\" for stretched grid: m * log1p(n * pos.x) + o;\n",
    "# H->workers[i].les_desc.s[RSTable3DStaggeredDescriptionOffsetX] = table.xm;          // \"o\" for stretched grid: m * log1p(n * pos.x) + o;\n",
    "#\n",
    "#\n",
    "# wind_table_index() ...\n",
    "# ...\n",
    "# float4 pos_rel = pos - (float4)(sim_desc.hi.s01 + 0.5f * sim_desc.hi.s45, 0.0f, 0.0f);\n",
    "# return copysign(wind_desc.s0123, pos_rel) * log1p(wind_desc.s4567 * fabs(pos_rel)) + wind_desc.s89ab;\n",
    "#\n",
    "#  k = (     m    ) * log1p((    n    ) * z[k]) + (     o      )\n",
    "#  k = 1.0 / log(r) * log1p((r - 1) / a * z[k]) + (0.5 * nx - 1)\n",
    "#\n",
    "\n",
    "k = np.arange(10)\n",
    "x = a * (1.0 - np.power(r, k)) / (1.0 - r)\n",
    "o = a * (1.0 - np.power(r, k[-1])) / (1.0 - r)\n",
    "\n",
    "# a = 2.0, r = 1.05\n",
    "\n",
    "# m * log1p(n * pos.x) + o;\n",
    "\n",
    "# x = np.arange(0, nx + 1) * dx - 1.0\n",
    "# y = np.arange(0, ny + 1) * dy - 1.0\n",
    "\n",
    "# # Generate a desired PDF & CDF\n",
    "# xx, yy  = np.meshgrid(x[:-1], y[:-1])\n",
    "# # f = np.exp(-(xx - 0.2) ** 2 / 0.2 + 0.1 * (xx + 0.1) * (yy - 0.1) / 0.02 - (yy + 0.2) ** 2 / 0.1)\n",
    "# f = np.exp(-(xx - 0.4) ** 2 / 0.2 - 0.1 * (xx - 0.1) * (yy + 0.15) / 0.02 - (yy + 0.2) ** 2 / 0.1)\n",
    "# pdf = f / f.sum()\n",
    "# cdf = pdf.cumsum()\n",
    "\n",
    "# xe = np.arange(0, nx + 1) * dx - 1.0\n",
    "# ye = np.arange(0, ny + 1) * dy - 1.0"
   ]
  },
  {
   "cell_type": "code",
   "execution_count": 21,
   "metadata": {},
   "outputs": [],
   "source": [
    "# plt.plot(np.diff(x), 'o')\n",
    "x = np.arange(-20, 20, 1.0)\n",
    "k = np.sign(x) * a * np.log1p(r * abs(x)) + "
   ]
  },
  {
   "cell_type": "code",
   "execution_count": 22,
   "metadata": {},
   "outputs": [
    {
     "data": {
      "text/plain": [
       "array([-39.60435864, -38.60435864, -37.60435864, -36.60435864,\n",
       "       -35.60435864, -34.60435864, -33.60435864, -32.60435864,\n",
       "       -31.60435864, -30.60435864, -29.60435864, -28.60435864,\n",
       "       -27.60435864, -26.60435864, -25.60435864, -24.60435864,\n",
       "       -23.60435864, -22.60435864, -21.60435864, -20.60435864,\n",
       "       -19.60435864, -18.60435864, -17.60435864, -16.60435864,\n",
       "       -15.60435864, -14.60435864, -13.60435864, -12.60435864,\n",
       "       -11.60435864, -10.60435864,  -9.60435864,  -8.60435864,\n",
       "        -7.60435864,  -6.60435864,  -5.60435864,  -4.60435864,\n",
       "        -3.60435864,  -2.60435864,  -1.60435864,  -0.60435864])"
      ]
     },
     "execution_count": 22,
     "metadata": {},
     "output_type": "execute_result"
    }
   ],
   "source": [
    "dx"
   ]
  },
  {
   "cell_type": "code",
   "execution_count": 26,
   "metadata": {},
   "outputs": [
    {
     "data": {
      "text/plain": [
       "-1"
      ]
     },
     "execution_count": 26,
     "metadata": {},
     "output_type": "execute_result"
    }
   ],
   "source": [
    "np.sign(-1)"
   ]
  },
  {
   "cell_type": "code",
   "execution_count": null,
   "metadata": {
    "collapsed": true
   },
   "outputs": [],
   "source": []
  }
 ],
 "metadata": {
  "kernelspec": {
   "display_name": "Python 3",
   "language": "python",
   "name": "python3"
  },
  "language_info": {
   "codemirror_mode": {
    "name": "ipython",
    "version": 3
   },
   "file_extension": ".py",
   "mimetype": "text/x-python",
   "name": "python",
   "nbconvert_exporter": "python",
   "pygments_lexer": "ipython3",
   "version": "3.6.5"
  }
 },
 "nbformat": 4,
 "nbformat_minor": 2
}
