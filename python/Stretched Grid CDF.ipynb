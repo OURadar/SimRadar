{
 "cells": [
  {
   "cell_type": "code",
   "execution_count": 2,
   "metadata": {},
   "outputs": [],
   "source": [
    "%matplotlib inline"
   ]
  },
  {
   "cell_type": "code",
   "execution_count": 3,
   "metadata": {},
   "outputs": [],
   "source": [
    "import matplotlib\n",
    "import matplotlib.pyplot as plt\n",
    "import numpy as np"
   ]
  },
  {
   "cell_type": "markdown",
   "metadata": {},
   "source": [
    "# Basic Ideas:\n",
    "\n",
    "Spacing as a geometric series:\n",
    "\n",
    "    dx = a * r ^ 1.05\n",
    "\n",
    "Position is a cumulative sum of the series:\n",
    "\n",
    "    x[k] = a * (1 - r ^ k) / (1 - r)\n",
    "\n",
    "\n",
    "Reverse lookup:\n",
    "\n",
    "    k = 1 / log(r) * log(1 - (1 - r) / a * z[k])\n",
    "      = 1 / log(r) * log(1 + (r - 1) / a * z[k])\n",
    "\n",
    "NOTE: We can use the math function `log1p()` in OpenCL"
   ]
  },
  {
   "cell_type": "code",
   "execution_count": 89,
   "metadata": {},
   "outputs": [],
   "source": [
    "# Stretched grid with a = 2.0, r = 1.0212\n",
    "a = 2.0\n",
    "r = 1.0212\n",
    "\n",
    "#\n",
    "# RS_set_vel_data_to_LES_table() ...\n",
    "# ...\n",
    "# table.spacing = RSTableSpacingStretchedX | RSTableSpacingStretchedY | RSTableSpacingStretchedZ;\n",
    "# table.x_ = leslie->nx;    table.xm = 0.5f * (float)(leslie->nx - 1);    table.xs = 1.0f / log(leslie->rx);    table.xo = (leslie->rx - 1.0f) / leslie->ax;\n",
    "# table.y_ = leslie->ny;    table.ym = 0.5f * (float)(leslie->ny - 1);    table.ys = 1.0f / log(leslie->ry);    table.yo = (leslie->ry - 1.0f) / leslie->ay;\n",
    "# table.z_ = leslie->nz;    table.zm = 0.0f;                              table.zs = 1.0f / log(leslie->rz);    table.zo = (leslie->rz - 1.0f) / leslie->az;\n",
    "#\n",
    "#\n",
    "# RS_set_vel_data() ...\n",
    "# ...\n",
    "# H->workers[i].les_desc.s[RSTable3DStaggeredDescriptionBaseChangeX] = table.xs;      // \"m\" for stretched grid: m * log1p(n * pos.x) + o;\n",
    "# H->workers[i].les_desc.s[RSTable3DStaggeredDescriptionPositionScaleX] = table.xo;   // \"n\" for stretched grid: m * log1p(n * pos.x) + o;\n",
    "# H->workers[i].les_desc.s[RSTable3DStaggeredDescriptionOffsetX] = table.xm;          // \"o\" for stretched grid: m * log1p(n * pos.x) + o;\n",
    "#\n",
    "#\n",
    "# wind_table_index() ...\n",
    "# ...\n",
    "# float4 pos_rel = pos - (float4)(sim_desc.hi.s01 + 0.5f * sim_desc.hi.s45, 0.0f, 0.0f);\n",
    "# return copysign(wind_desc.s0123, pos_rel) * log1p(wind_desc.s4567 * fabs(pos_rel)) + wind_desc.s89ab;\n",
    "#\n",
    "#  k = (     m    ) * log1p((    n    ) * z[k]) + (     o      )\n",
    "#  k = 1.0 / log(r) * log1p((r - 1) / a * z[k]) + (0.5 * nx - 1)\n",
    "#\n",
    "\n",
    "n = 9\n",
    "m = 0.5 * (n - 1)\n",
    "s = 1.0 / np.log(r)\n",
    "o = (r - 1.0) / a\n",
    "\n",
    "s0 = s\n",
    "s4 = o\n",
    "s8 = m\n",
    "\n",
    "x = -10.0\n",
    "\n",
    "k = s0 * np.sign(x) * np.log1p(s4 * np.abs(x)) + s8\n",
    "\n",
    "# k = np.arange(n)\n",
    "# x = a * (1.0 - np.power(r, k)) / (1.0 - r)\n",
    "# o = a * (1.0 - np.power(r, k[-1])) / (1.0 - r)\n",
    "\n",
    "# a = 2.0, r = 1.05\n",
    "\n",
    "# m * log1p(n * pos.x) + o;\n",
    "\n",
    "# x = np.arange(0, nx + 1) * dx - 1.0\n",
    "# y = np.arange(0, ny + 1) * dy - 1.0\n",
    "\n",
    "# # Generate a desired PDF & CDF\n",
    "# xx, yy  = np.meshgrid(x[:-1], y[:-1])\n",
    "# # f = np.exp(-(xx - 0.2) ** 2 / 0.2 + 0.1 * (xx + 0.1) * (yy - 0.1) / 0.02 - (yy + 0.2) ** 2 / 0.1)\n",
    "# f = np.exp(-(xx - 0.4) ** 2 / 0.2 - 0.1 * (xx - 0.1) * (yy + 0.15) / 0.02 - (yy + 0.2) ** 2 / 0.1)\n",
    "# pdf = f / f.sum()\n",
    "# cdf = pdf.cumsum()\n",
    "\n",
    "# xe = np.arange(0, nx + 1) * dx - 1.0\n",
    "# ye = np.arange(0, ny + 1) * dy - 1.0"
   ]
  },
  {
   "cell_type": "code",
   "execution_count": 90,
   "metadata": {},
   "outputs": [],
   "source": [
    "# plt.plot(np.diff(x), 'o')\n",
    "# x = np.arange(-20, 20, 1.0)\n",
    "# k = np.sign(x) * a * np.log1p(r * abs(x)) + "
   ]
  },
  {
   "cell_type": "code",
   "execution_count": 91,
   "metadata": {},
   "outputs": [],
   "source": [
    "np.set_printoptions(formatter={'float': ' {:6.3f}'.format})"
   ]
  },
  {
   "cell_type": "code",
   "execution_count": 92,
   "metadata": {},
   "outputs": [
    {
     "name": "stdout",
     "output_type": "stream",
     "text": [
      "         k = [  0.000   1.000   2.000   3.000   4.000]\n",
      "        dx = [  0.000   2.000   2.042   2.086   2.130]\n",
      "cumsum(dx) = [  0.000   2.000   4.042   6.128   8.258]\n",
      "         x = [ -0.000   2.000   4.042   6.128   8.258]\n"
     ]
    }
   ],
   "source": [
    "k = np.arange(0, m + 1)\n",
    "x = a * (1.0 - np.power(r, k)) / (1.0 - r)\n",
    "dx = np.concatenate(([0], a * np.power(r, k[:-1])))\n",
    "\n",
    "print('         k = {}'.format(np.array(k, dtype=float)))\n",
    "print('        dx = {}'.format(dx))\n",
    "print('cumsum(dx) = {}'.format(np.cumsum(dx)))\n",
    "print('         x = {}'.format(x))"
   ]
  },
  {
   "cell_type": "code",
   "execution_count": 93,
   "metadata": {},
   "outputs": [],
   "source": [
    "k = np.array(np.arange(-m, m+1), dtype=float)\n",
    "i = np.array(np.arange(len(k)), dtype=float)\n",
    "x = np.sign(k) * a * (1.0 - np.power(r, np.abs(k))) / (1.0 - r)\n",
    "\n",
    "# Compute the table index\n",
    "k0 = s0 * np.sign(x) * np.log1p(s4 * np.abs(x)) + s8"
   ]
  },
  {
   "cell_type": "code",
   "execution_count": 95,
   "metadata": {},
   "outputs": [
    {
     "name": "stdout",
     "output_type": "stream",
     "text": [
      " i = [  0.000   1.000   2.000   3.000   4.000   5.000   6.000   7.000   8.000]\n",
      " k = [ -4.000  -3.000  -2.000  -1.000   0.000   1.000   2.000   3.000   4.000]\n",
      " x = [ -8.258  -6.128  -4.042  -2.000  -0.000   2.000   4.042   6.128   8.258]\n",
      "\n",
      "k0 = [ -0.000   1.000   2.000   3.000   4.000   5.000   6.000   7.000   8.000]\n"
     ]
    }
   ],
   "source": [
    "print(' i = {}'.format(i))\n",
    "print(' k = {}'.format(k))\n",
    "print(' x = {}'.format(x))\n",
    "print('')\n",
    "print('k0 = {}'.format(k0))"
   ]
  },
  {
   "cell_type": "code",
   "execution_count": null,
   "metadata": {},
   "outputs": [],
   "source": []
  }
 ],
 "metadata": {
  "kernelspec": {
   "display_name": "Python 3",
   "language": "python",
   "name": "python3"
  },
  "language_info": {
   "codemirror_mode": {
    "name": "ipython",
    "version": 3
   },
   "file_extension": ".py",
   "mimetype": "text/x-python",
   "name": "python",
   "nbconvert_exporter": "python",
   "pygments_lexer": "ipython3",
   "version": "3.6.5"
  }
 },
 "nbformat": 4,
 "nbformat_minor": 2
}
