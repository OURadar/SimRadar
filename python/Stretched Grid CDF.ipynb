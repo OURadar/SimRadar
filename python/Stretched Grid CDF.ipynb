{
 "cells": [
  {
   "cell_type": "code",
   "execution_count": null,
   "metadata": {},
   "outputs": [],
   "source": [
    "%matplotlib inline"
   ]
  },
  {
   "cell_type": "code",
   "execution_count": null,
   "metadata": {},
   "outputs": [],
   "source": [
    "import matplotlib\n",
    "import matplotlib.pyplot as plt\n",
    "import numpy as np"
   ]
  },
  {
   "cell_type": "markdown",
   "metadata": {},
   "source": [
    "# Basic Ideas:\n",
    "\n",
    "Spacing as a geometric series:\n",
    "\n",
    "    dx = a * r ^ 1.05\n",
    "\n",
    "Position is a cumulative sum of the series:\n",
    "\n",
    "    x[k] = a * (1 - r ^ k) / (1 - r)\n",
    "\n",
    "\n",
    "Reverse lookup:\n",
    "\n",
    "    k = 1 / log(r) * log(1 - (1 - r) / a * z[k])\n",
    "      = 1 / log(r) * log(1 + (r - 1) / a * z[k])\n",
    "\n",
    "NOTE: We can use the math function `log1p()` in OpenCL"
   ]
  },
  {
   "cell_type": "markdown",
   "metadata": {},
   "source": [
    "## Some Excerpts from the SimRadar Source Code\n",
    "\n",
    "```c\n",
    "void RS_set_vel_data_to_LES_table()\n",
    "...\n",
    "table.spacing = RSTableSpacingStretchedX | RSTableSpacingStretchedY | RSTableSpacingStretchedZ;\n",
    "table.x_ = leslie->nx;\n",
    "table.xm = 0.5f * (float)(leslie->nx - 1);\n",
    "table.xs = 1.0f / log(leslie->rx);\n",
    "table.xo = (leslie->rx - 1.0f) / leslie->ax;\n",
    "\n",
    "table.y_ = leslie->ny;\n",
    "table.ym = 0.5f * (float)(leslie->ny - 1);\n",
    "table.ys = 1.0f / log(leslie->ry);\n",
    "table.yo = (leslie->ry - 1.0f) / leslie->ay;\n",
    "\n",
    "table.z_ = leslie->nz;\n",
    "table.zm = 0.0f;\n",
    "table.zs = 1.0f / log(leslie->rz);\n",
    "table.zo = (leslie->rz - 1.0f) / leslie->az;\n",
    "\n",
    "\n",
    "void RS_set_vel_data()\n",
    "...\n",
    "H->workers[i].les_desc.s[RSTable3DStaggeredDescriptionBaseChangeX] = table.xs;\n",
    "H->workers[i].les_desc.s[RSTable3DStaggeredDescriptionPositionScaleX] = table.xo;\n",
    "H->workers[i].les_desc.s[RSTable3DStaggeredDescriptionOffsetX] = table.xm;\n",
    "\n",
    "\n",
    "int4 wind_table_index()\n",
    "...\n",
    "float4 pos_rel = pos - (float4)(sim_desc.hi.s01 + 0.5f * sim_desc.hi.s45, 0.0f, 0.0f);\n",
    "return copysign(wind_desc.s0123, pos_rel) * log1p(wind_desc.s4567 * fabs(pos_rel)) + wind_desc.s89ab;\n",
    "\n",
    "#  k = (     m    ) * log1p((    n    ) * z[k]) + (     o      )\n",
    "#  k = 1.0 / log(r) * log1p((r - 1) / a * z[k]) + (0.5 * nx - 1)\n",
    "```"
   ]
  },
  {
   "cell_type": "code",
   "execution_count": null,
   "metadata": {},
   "outputs": [],
   "source": [
    "# Stretched grid with a = 2.0, r = 1.0212\n",
    "a = 2.0\n",
    "# r = 1.0212\n",
    "r = 1.3\n",
    "\n",
    "n = 9                      # Number of total grids\n",
    "m = 0.5 * (n - 1)          # Number of grids on each side (half)\n",
    "s = 1.0 / np.log(r)        # Scaling factor\n",
    "o = (r - 1.0) / a          # Offset\n",
    "\n",
    "s0 = s                     # s0123 for scale of x, y, z, _\n",
    "s4 = o                     # s4567 for log1p() of x, y, z, _\n",
    "s8 = m                     # s89ab for half-count of x, y, z, _"
   ]
  },
  {
   "cell_type": "code",
   "execution_count": null,
   "metadata": {},
   "outputs": [],
   "source": [
    "# Exapmle position to index for table lookup\n",
    "x = -6.0\n",
    "k = s0 * np.sign(x) * np.log1p(s4 * np.abs(x)) + s8\n",
    "print('x = {} --> k = {:.2f}'.format(x, k))"
   ]
  },
  {
   "cell_type": "code",
   "execution_count": null,
   "metadata": {},
   "outputs": [],
   "source": [
    "np.set_printoptions(formatter={'float': ' {:6.2f}'.format})"
   ]
  },
  {
   "cell_type": "code",
   "execution_count": null,
   "metadata": {},
   "outputs": [],
   "source": [
    "k = np.arange(0, m + 1)\n",
    "x = a * (1.0 - np.power(r, k)) / (1.0 - r)\n",
    "dx = np.concatenate(([0], a * np.power(r, k[:-1])))\n",
    "\n",
    "print('         k = {}'.format(np.array(k, dtype=float)))\n",
    "print('        dx = {}'.format(dx))\n",
    "print('cumsum(dx) = {}'.format(np.cumsum(dx)))\n",
    "print('         x = {}'.format(x))"
   ]
  },
  {
   "cell_type": "code",
   "execution_count": null,
   "metadata": {},
   "outputs": [],
   "source": [
    "k = np.array(np.arange(-m, m+1), dtype=float)\n",
    "i = np.array(np.arange(len(k)), dtype=float)\n",
    "x = np.sign(k) * a * (1.0 - np.power(r, np.abs(k))) / (1.0 - r)\n",
    "dx = a * np.power(r, np.abs(k))\n",
    "\n",
    "# Compute the table index\n",
    "k0 = s0 * np.sign(x) * np.log1p(s4 * np.abs(x)) + s8"
   ]
  },
  {
   "cell_type": "code",
   "execution_count": null,
   "metadata": {},
   "outputs": [],
   "source": [
    "print(' i = {}'.format(i))\n",
    "print(' k = {}'.format(k))\n",
    "print(' x = {}'.format(x))\n",
    "print('dx = {}'.format(dx))\n",
    "print('')\n",
    "print('k0 = {}'.format(k0))"
   ]
  },
  {
   "cell_type": "code",
   "execution_count": null,
   "metadata": {},
   "outputs": [],
   "source": [
    "xx, yy  = np.meshgrid(x, x)\n",
    "f = np.exp(-(xx - 2) ** 2 / 40 - (yy + 4.0) ** 2 / 40 - (xx - 2) * (yy + 4.0) / 30)\n",
    "pdf = f / f.sum()\n",
    "cdf = pdf.cumsum()\n",
    "\n",
    "fx = np.arange(1, n * n + 1) / (n * n)\n",
    "\n",
    "# Generate a set of random integers between 0 and (n * n) that has the targeted cdf\n",
    "count = 50000\n",
    "rr = np.random.rand(count)\n",
    "ii = np.interp(rr, cdf, fx)\n",
    "ii = ii * (n * n)\n",
    "\n",
    "# Cell index (ix, iy)\n",
    "ix = np.remainder(ii, n) - m\n",
    "iy = np.floor(ii / n) + np.random.rand(count) - m\n",
    "\n",
    "# Absolute position from cell index\n",
    "vx = np.sign(ix) * a * (1.0 - np.power(r, np.abs(ix))) / (1.0 - r)\n",
    "vy = np.sign(iy) * a * (1.0 - np.power(r, np.abs(iy))) / (1.0 - r)\n",
    "\n",
    "# Compute the 2D histogram\n",
    "H, _, _ = np.histogram2d(vx, vy, bins=(x, x))\n",
    "H = H.T"
   ]
  },
  {
   "cell_type": "code",
   "execution_count": null,
   "metadata": {},
   "outputs": [],
   "source": [
    "plt.figure(figsize=(12,3.6), dpi=96)\n",
    "\n",
    "plt.subplot(131)\n",
    "plt.pcolor(xx, yy, pdf)\n",
    "_ = plt.xlim(x[0], x[-1])\n",
    "_ = plt.ylim(x[0], x[-1])\n",
    "_ = plt.xlabel('X Distance')\n",
    "_ = plt.ylabel('Y Distance')\n",
    "_ = plt.title('Target PDF')\n",
    "\n",
    "plt.subplot(132)\n",
    "plt.plot(vx, vy, '.', markersize=1, alpha=0.15)\n",
    "_ = plt.xlim(x[0], x[-1])\n",
    "_ = plt.ylim(x[0], x[-1])\n",
    "_ = plt.xlabel('X Distance')\n",
    "_ = plt.ylabel('Y Distance')\n",
    "_ = plt.title('Sample Points')\n",
    "\n",
    "plt.subplot(133)\n",
    "plt.pcolor(xx, yy, H / H.max())\n",
    "_ = plt.xlim(x[0], x[-1])\n",
    "_ = plt.ylim(x[0], x[-1])\n",
    "_ = plt.xlabel('X Distance')\n",
    "_ = plt.ylabel('Y Distance')\n",
    "_ = plt.title('PDF of the Sample Points')"
   ]
  },
  {
   "cell_type": "code",
   "execution_count": null,
   "metadata": {},
   "outputs": [],
   "source": []
  }
 ],
 "metadata": {
  "kernelspec": {
   "display_name": "Python 3",
   "language": "python",
   "name": "python3"
  },
  "language_info": {
   "codemirror_mode": {
    "name": "ipython",
    "version": 3
   },
   "file_extension": ".py",
   "mimetype": "text/x-python",
   "name": "python",
   "nbconvert_exporter": "python",
   "pygments_lexer": "ipython3",
   "version": "3.6.5"
  }
 },
 "nbformat": 4,
 "nbformat_minor": 2
}
