{
 "cells": [
  {
   "cell_type": "code",
   "execution_count": null,
   "metadata": {},
   "outputs": [],
   "source": [
    "%matplotlib inline"
   ]
  },
  {
   "cell_type": "code",
   "execution_count": null,
   "metadata": {},
   "outputs": [],
   "source": [
    "import matplotlib\n",
    "import matplotlib.pyplot as plt\n",
    "import numpy as np"
   ]
  },
  {
   "cell_type": "markdown",
   "metadata": {},
   "source": [
    "# 1D Example"
   ]
  },
  {
   "cell_type": "code",
   "execution_count": null,
   "metadata": {},
   "outputs": [],
   "source": [
    "dx = 0.01\n",
    "x = np.arange(0, 1, dx)\n",
    "y = np.sin(x * np.pi)\n",
    "pdf = y / y.sum()\n",
    "cdf = pdf.cumsum()"
   ]
  },
  {
   "cell_type": "code",
   "execution_count": null,
   "metadata": {},
   "outputs": [],
   "source": [
    "fig = plt.figure(figsize=(9, 3), dpi=96)\n",
    "plt.subplot(121)\n",
    "plt.plot(pdf)\n",
    "plt.subplot(122)\n",
    "plt.plot(cdf)"
   ]
  },
  {
   "cell_type": "code",
   "execution_count": null,
   "metadata": {},
   "outputs": [],
   "source": [
    "r = np.random.rand(5000)\n",
    "proj = np.interp(r, cdf, x)\n",
    "\n",
    "fig = plt.figure(figsize=(9, 3), dpi=96)\n",
    "p = plt.hist(proj, bins=50, edgecolor='black')"
   ]
  },
  {
   "cell_type": "code",
   "execution_count": null,
   "metadata": {},
   "outputs": [],
   "source": [
    "proj_table = np.interp(x, cdf, x)\n",
    "y = np.interp(r, x, proj_table)\n",
    "fig = plt.figure(figsize=(9, 3), dpi=96)\n",
    "p = plt.hist(y, bins=50, edgecolor='black')"
   ]
  },
  {
   "cell_type": "markdown",
   "metadata": {},
   "source": [
    "# 2D Example"
   ]
  },
  {
   "cell_type": "code",
   "execution_count": null,
   "metadata": {},
   "outputs": [],
   "source": [
    "dx, dy = 0.01, 0.01\n",
    "nx = int(2.0 / dx)\n",
    "ny = int(2.0 / dy)\n",
    "\n",
    "x = np.arange(0, nx + 1) * dx - 1.0\n",
    "y = np.arange(0, ny + 1) * dy - 1.0\n",
    "\n",
    "# Generate a desired PDF & CDF\n",
    "xx, yy  = np.meshgrid(x[:-1], y[:-1])\n",
    "# f = np.exp(-(xx - 0.2) ** 2 / 0.2 + 0.1 * (xx + 0.1) * (yy - 0.1) / 0.02 - (yy + 0.2) ** 2 / 0.1)\n",
    "f = np.exp(-(xx - 0.2) ** 2 / 0.2 - 0.1 * (xx - 0.1) * (yy + 0.15) / 0.02 - (yy + 0.2) ** 2 / 0.1)\n",
    "pdf = f / f.sum()\n",
    "cdf = pdf.cumsum()"
   ]
  },
  {
   "cell_type": "code",
   "execution_count": null,
   "metadata": {},
   "outputs": [],
   "source": [
    "# Flatten cdf\n",
    "cdf = pdf.cumsum()\n",
    "\n",
    "count = 1000000\n",
    "\n",
    "r = np.random.rand(count)\n",
    "\n",
    "fx = np.linspace(0.0, 1.0, nx * ny)\n",
    "fy = np.interp(r, cdf, fx)\n",
    "ii = np.floor(fy * nx * ny)\n",
    "ix = ii % nx\n",
    "iy = np.floor(ii / nx)\n",
    "vx = ix * dx - 1.0\n",
    "vy = iy * dy - 1.0\n",
    "\n",
    "vx = vx + dx * np.random.rand(count)\n",
    "vy = vy + dy * np.random.rand(count)\n",
    "\n",
    "# Down-sampling ratio\n",
    "d = 2\n",
    "xe = np.arange(0, nx / d + 1) * dx * d - 1.0\n",
    "ye = np.arange(0, ny / d + 1) * dy * d - 1.0\n",
    "H, _, _ = np.histogram2d(vx, vy, bins=(xe, ye))\n",
    "H = H.T"
   ]
  },
  {
   "cell_type": "code",
   "execution_count": null,
   "metadata": {
    "scrolled": false
   },
   "outputs": [],
   "source": [
    "# fig = plt.figure(figsize=(11, 6), dpi=96)\n",
    "# plt.subplot(221)\n",
    "# _ = plt.hist(r, bins=50, edgecolor='k')\n",
    "# plt.subplot(222)\n",
    "# _ = plt.hist(fy / (dx * dy), bins=50, edgecolor='k')\n",
    "# plt.subplot(223)\n",
    "# _ = plt.hist(ix, bins=50, edgecolor='k')\n",
    "# plt.subplot(224)\n",
    "# _ = plt.hist(iy, bins=50, edgecolor='k')"
   ]
  },
  {
   "cell_type": "code",
   "execution_count": null,
   "metadata": {},
   "outputs": [],
   "source": [
    "fig = plt.figure(figsize=(11, 4), dpi=96)\n",
    "plt.subplot(121)\n",
    "plt.imshow(pdf / pdf.max(), interpolation='nearest', origin='low', extent=[x[0], x[-1], y[0], y[-1]])\n",
    "plt.colorbar()\n",
    "plt.subplot(122)\n",
    "plt.imshow(H / H.max(), interpolation='nearest', origin='low', extent=[xe[0], xe[-1], ye[0], ye[-1]])\n",
    "plt.colorbar()"
   ]
  },
  {
   "cell_type": "code",
   "execution_count": null,
   "metadata": {},
   "outputs": [],
   "source": [
    "plt.plot(vx[:10000], vy[:10000], '.', markersize=1)"
   ]
  },
  {
   "cell_type": "code",
   "execution_count": null,
   "metadata": {},
   "outputs": [],
   "source": []
  }
 ],
 "metadata": {
  "kernelspec": {
   "display_name": "Python 3",
   "language": "python",
   "name": "python3"
  },
  "language_info": {
   "codemirror_mode": {
    "name": "ipython",
    "version": 3
   },
   "file_extension": ".py",
   "mimetype": "text/x-python",
   "name": "python",
   "nbconvert_exporter": "python",
   "pygments_lexer": "ipython3",
   "version": "3.6.5"
  }
 },
 "nbformat": 4,
 "nbformat_minor": 2
}
