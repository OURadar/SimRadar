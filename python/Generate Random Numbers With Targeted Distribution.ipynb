{
 "cells": [
  {
   "cell_type": "code",
   "execution_count": null,
   "metadata": {
    "collapsed": true
   },
   "outputs": [],
   "source": [
    "%matplotlib inline"
   ]
  },
  {
   "cell_type": "code",
   "execution_count": null,
   "metadata": {
    "collapsed": true
   },
   "outputs": [],
   "source": [
    "import matplotlib\n",
    "import matplotlib.pyplot as plt\n",
    "import numpy as np"
   ]
  },
  {
   "cell_type": "markdown",
   "metadata": {},
   "source": [
    "# 1D Example"
   ]
  },
  {
   "cell_type": "code",
   "execution_count": null,
   "metadata": {
    "collapsed": true
   },
   "outputs": [],
   "source": [
    "dx = 0.01\n",
    "x = np.arange(0, 1, dx)\n",
    "y = np.sin(x * np.pi)\n",
    "pdf = y / y.sum()\n",
    "cdf = pdf.cumsum()"
   ]
  },
  {
   "cell_type": "code",
   "execution_count": null,
   "metadata": {},
   "outputs": [],
   "source": [
    "fig = plt.figure(figsize=(9, 3), dpi=96)\n",
    "plt.subplot(121)\n",
    "plt.plot(pdf)\n",
    "plt.subplot(122)\n",
    "plt.plot(cdf)"
   ]
  },
  {
   "cell_type": "code",
   "execution_count": null,
   "metadata": {},
   "outputs": [],
   "source": [
    "r = np.random.rand(5000)\n",
    "proj = np.interp(r, cdf, x)\n",
    "\n",
    "fig = plt.figure(figsize=(9, 3), dpi=96)\n",
    "p = plt.hist(proj, bins=50, edgecolor='black')"
   ]
  },
  {
   "cell_type": "code",
   "execution_count": null,
   "metadata": {},
   "outputs": [],
   "source": [
    "proj_table = np.interp(x, cdf, x)\n",
    "y = np.interp(r, x, proj_table)\n",
    "fig = plt.figure(figsize=(9, 3), dpi=96)\n",
    "p = plt.hist(y, bins=50, edgecolor='black')"
   ]
  },
  {
   "cell_type": "markdown",
   "metadata": {},
   "source": [
    "# 2D Example"
   ]
  },
  {
   "cell_type": "code",
   "execution_count": null,
   "metadata": {
    "collapsed": true
   },
   "outputs": [],
   "source": [
    "# dx, dy = 0.01, 0.01\n",
    "dx, dy = 0.25, 0.25\n",
    "nx = int(2.0 / dx)\n",
    "ny = int(2.0 / dy)\n",
    "\n",
    "x = np.arange(0, nx + 1) * dx - 1.0\n",
    "y = np.arange(0, ny + 1) * dy - 1.0\n",
    "\n",
    "# Generate a desired PDF & CDF\n",
    "xx, yy  = np.meshgrid(x[:-1], y[:-1])\n",
    "# f = np.exp(-(xx - 0.2) ** 2 / 0.2 + 0.1 * (xx + 0.1) * (yy - 0.1) / 0.02 - (yy + 0.2) ** 2 / 0.1)\n",
    "f = np.exp(-(xx - 0.4) ** 2 / 0.2 - 0.1 * (xx - 0.1) * (yy + 0.15) / 0.02 - (yy + 0.2) ** 2 / 0.1)\n",
    "pdf = f / f.sum()\n",
    "cdf = pdf.cumsum()\n",
    "\n",
    "xe = np.arange(0, nx + 1) * dx - 1.0\n",
    "ye = np.arange(0, ny + 1) * dy - 1.0"
   ]
  },
  {
   "cell_type": "code",
   "execution_count": null,
   "metadata": {
    "collapsed": true
   },
   "outputs": [],
   "source": [
    "def show_results(pdf, vx, vy, xe, ye):\n",
    "    # Compute the 2D histogram\n",
    "    H, _, _ = np.histogram2d(vx, vy, bins=(xe, ye))\n",
    "    H = H.T\n",
    "    # The histograms\n",
    "    fig = plt.figure(figsize=(11, 4), dpi=96)\n",
    "    plt.subplot(121)\n",
    "    plt.imshow(pdf / pdf.max(), interpolation='nearest', origin='low', extent=[x[0], x[-1], y[0], y[-1]])\n",
    "    plt.colorbar()\n",
    "    plt.subplot(122)\n",
    "    plt.imshow(H / H.max(), interpolation='nearest', origin='low', extent=[xe[0], xe[-1], ye[0], ye[-1]])\n",
    "    plt.colorbar()\n",
    "    # The points\n",
    "    fig = plt.figure(figsize=(4, 4), dpi=96)\n",
    "    plt.plot(vx, vy, '.', markersize=1)\n",
    "    _ = plt.xlim(-1, 1)\n",
    "    _ = plt.ylim(-1, 1)"
   ]
  },
  {
   "cell_type": "markdown",
   "metadata": {},
   "source": [
    "## The Naive Way"
   ]
  },
  {
   "cell_type": "code",
   "execution_count": null,
   "metadata": {},
   "outputs": [],
   "source": [
    "count = 10000\n",
    "r = np.random.rand(count)\n",
    "fx = np.linspace(0.0, 1.0, nx * ny)\n",
    "ii = np.interp(r, cdf, fx)\n",
    "\n",
    "ii = ii * (nx * ny)\n",
    "ix = np.remainder(ii, nx)\n",
    "iy = np.floor(ii / nx) + np.random.rand(count)\n",
    "vx = ix * dx - 1.0\n",
    "vy = iy * dy - 1.0\n",
    "\n",
    "show_results(pdf, vx, vy, xe, ye)"
   ]
  },
  {
   "cell_type": "markdown",
   "metadata": {},
   "source": [
    "## A Necessary Small Change"
   ]
  },
  {
   "cell_type": "code",
   "execution_count": null,
   "metadata": {},
   "outputs": [],
   "source": [
    "fx = np.arange(1, nx * ny + 1) / (nx * ny)\n",
    "ii = np.interp(r, cdf, fx)\n",
    "\n",
    "ii = ii * (nx * ny)\n",
    "ix = np.remainder(ii, nx)\n",
    "iy = np.floor(ii / nx) + np.random.rand(count)\n",
    "vx = ix * dx - 1.0\n",
    "vy = iy * dy - 1.0\n",
    "\n",
    "show_results(pdf, vx, vy, xe, ye)"
   ]
  },
  {
   "cell_type": "code",
   "execution_count": null,
   "metadata": {
    "collapsed": true
   },
   "outputs": [],
   "source": [
    "# Down-sampling ratio\n",
    "# d = 1\n",
    "# xe = np.arange(0, nx / d + 1) * dx * d - 1.0\n",
    "# ye = np.arange(0, ny / d + 1) * dy * d - 1.0\n",
    "# H, _, _ = np.histogram2d(vx, vy, bins=(xe, ye))\n",
    "# H = H.T"
   ]
  },
  {
   "cell_type": "code",
   "execution_count": null,
   "metadata": {
    "collapsed": true
   },
   "outputs": [],
   "source": [
    "ix[:10]"
   ]
  },
  {
   "cell_type": "code",
   "execution_count": null,
   "metadata": {
    "collapsed": true
   },
   "outputs": [],
   "source": [
    "iy[:10]"
   ]
  },
  {
   "cell_type": "code",
   "execution_count": null,
   "metadata": {
    "collapsed": true
   },
   "outputs": [],
   "source": [
    "plt.plot(cdf)"
   ]
  },
  {
   "cell_type": "code",
   "execution_count": null,
   "metadata": {
    "collapsed": true
   },
   "outputs": [],
   "source": [
    "np.remainder(2.4, 1.1)"
   ]
  },
  {
   "cell_type": "code",
   "execution_count": null,
   "metadata": {
    "collapsed": true
   },
   "outputs": [],
   "source": []
  }
 ],
 "metadata": {
  "kernelspec": {
   "display_name": "Python 3",
   "language": "python",
   "name": "python3"
  },
  "language_info": {
   "codemirror_mode": {
    "name": "ipython",
    "version": 3
   },
   "file_extension": ".py",
   "mimetype": "text/x-python",
   "name": "python",
   "nbconvert_exporter": "python",
   "pygments_lexer": "ipython3",
   "version": "3.6.5"
  }
 },
 "nbformat": 4,
 "nbformat_minor": 2
}
