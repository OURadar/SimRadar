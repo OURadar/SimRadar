{
 "cells": [
  {
   "cell_type": "code",
   "execution_count": null,
   "metadata": {},
   "outputs": [],
   "source": [
    "%matplotlib inline"
   ]
  },
  {
   "cell_type": "code",
   "execution_count": null,
   "metadata": {},
   "outputs": [],
   "source": [
    "import matplotlib\n",
    "import matplotlib.pyplot as plt\n",
    "import numpy as np"
   ]
  },
  {
   "cell_type": "markdown",
   "metadata": {},
   "source": [
    "# 1D Example"
   ]
  },
  {
   "cell_type": "code",
   "execution_count": null,
   "metadata": {},
   "outputs": [],
   "source": [
    "dx = 0.01\n",
    "x = np.arange(0, 1, dx)\n",
    "y = np.sin(x * np.pi)\n",
    "pdf = y / y.sum()\n",
    "cdf = pdf.cumsum()"
   ]
  },
  {
   "cell_type": "code",
   "execution_count": null,
   "metadata": {},
   "outputs": [],
   "source": [
    "fig = plt.figure(figsize=(9, 3), dpi=96)\n",
    "plt.subplot(121)\n",
    "plt.plot(pdf)\n",
    "plt.subplot(122)\n",
    "plt.plot(cdf)"
   ]
  },
  {
   "cell_type": "code",
   "execution_count": null,
   "metadata": {},
   "outputs": [],
   "source": [
    "r = np.random.rand(5000)\n",
    "proj = np.interp(r, cdf, x)\n",
    "\n",
    "fig = plt.figure(figsize=(9, 3), dpi=96)\n",
    "p = plt.hist(proj, bins=50, edgecolor='black')"
   ]
  },
  {
   "cell_type": "code",
   "execution_count": null,
   "metadata": {},
   "outputs": [],
   "source": [
    "proj_table = np.interp(x, cdf, x)\n",
    "y = np.interp(r, x, proj_table)\n",
    "fig = plt.figure(figsize=(9, 3), dpi=96)\n",
    "p = plt.hist(y, bins=50, edgecolor='black')"
   ]
  },
  {
   "cell_type": "markdown",
   "metadata": {},
   "source": [
    "# 2D Example"
   ]
  },
  {
   "cell_type": "code",
   "execution_count": null,
   "metadata": {},
   "outputs": [],
   "source": [
    "dx, dy = 0.01, 0.01\n",
    "x, y  = np.meshgrid(np.arange(-1, 1, dx), np.arange(-1, +1, dx))\n",
    "f = np.exp(-(x - 0.2) ** 2 / 0.2 + 0.1 * (x + 0.1) * (y - 0.1) / 0.02 - (y + 0.4) ** 2 / 0.1)\n",
    "pdf = f / f.sum()\n",
    "cdf = pdf.cumsum(axis=0).cumsum(axis=1)"
   ]
  },
  {
   "cell_type": "code",
   "execution_count": null,
   "metadata": {},
   "outputs": [],
   "source": [
    "fig = plt.figure(figsize=(11, 3), dpi=96)\n",
    "plt.subplot(121)\n",
    "plt.pcolormesh(x, y, pdf)\n",
    "plt.colorbar()\n",
    "plt.subplot(122)\n",
    "plt.pcolormesh(x, y, cdf, vmin=0, vmax=1)\n",
    "plt.colorbar()"
   ]
  },
  {
   "cell_type": "code",
   "execution_count": null,
   "metadata": {},
   "outputs": [],
   "source": []
  }
 ],
 "metadata": {
  "kernelspec": {
   "display_name": "Python 3",
   "language": "python",
   "name": "python3"
  },
  "language_info": {
   "codemirror_mode": {
    "name": "ipython",
    "version": 3
   },
   "file_extension": ".py",
   "mimetype": "text/x-python",
   "name": "python",
   "nbconvert_exporter": "python",
   "pygments_lexer": "ipython3",
   "version": "3.6.5"
  }
 },
 "nbformat": 4,
 "nbformat_minor": 2
}
