{
 "cells": [
  {
   "cell_type": "code",
   "execution_count": null,
   "metadata": {},
   "outputs": [],
   "source": [
    "%matplotlib inline"
   ]
  },
  {
   "cell_type": "code",
   "execution_count": null,
   "metadata": {},
   "outputs": [],
   "source": [
    "import matplotlib\n",
    "import matplotlib.pyplot as plt\n",
    "import numpy as np"
   ]
  },
  {
   "cell_type": "code",
   "execution_count": null,
   "metadata": {},
   "outputs": [],
   "source": [
    "f = 3.3e9\n",
    "wavelength = 3e8 / f"
   ]
  },
  {
   "cell_type": "code",
   "execution_count": null,
   "metadata": {},
   "outputs": [],
   "source": [
    "# Antenna size = 2 x 4.5 ft (0.3048 m / ft)\n",
    "antenna_width = 4.5 * 0.3048\n",
    "antenna_depth = 2.0 * 0.3048\n",
    "\n",
    "# Number of elements that can span the dimension\n",
    "ny = np.floor(antenna_depth / (0.5 * wavelength))\n",
    "nx = np.floor(antenna_width / (0.5 * wavelength))"
   ]
  },
  {
   "cell_type": "code",
   "execution_count": null,
   "metadata": {},
   "outputs": [],
   "source": [
    "x = np.arange(nx) * (0.5 * wavelength);\n",
    "y = np.arange(ny) * (0.5 * wavelength);\n",
    "x = x - x.mean()\n",
    "y = y - y.mean()\n",
    "xx, yy = np.meshgrid(x, y)\n",
    "\n",
    "rect_x = np.array([-1, +1, +1, -1, -1]) * 0.5 * antenna_width;\n",
    "rect_y = np.array([-1, -1, +1, +1, -1]) * 0.5 * antenna_depth;"
   ]
  },
  {
   "cell_type": "code",
   "execution_count": null,
   "metadata": {},
   "outputs": [],
   "source": [
    "plt.style.use('ggplot')\n",
    "fig = plt.figure(dpi=144)\n",
    "ax = fig.add_subplot(111)\n",
    "_ = plt.plot(xx.flatten(), yy.flatten(), 'o')\n",
    "_ = plt.plot(rect_x, rect_y, '--')\n",
    "ax.set_aspect(aspect=1.0)"
   ]
  },
  {
   "cell_type": "code",
   "execution_count": null,
   "metadata": {},
   "outputs": [],
   "source": []
  }
 ],
 "metadata": {
  "kernelspec": {
   "display_name": "Python 3",
   "language": "python",
   "name": "python3"
  },
  "language_info": {
   "codemirror_mode": {
    "name": "ipython",
    "version": 3
   },
   "file_extension": ".py",
   "mimetype": "text/x-python",
   "name": "python",
   "nbconvert_exporter": "python",
   "pygments_lexer": "ipython3",
   "version": "3.6.5"
  }
 },
 "nbformat": 4,
 "nbformat_minor": 2
}
