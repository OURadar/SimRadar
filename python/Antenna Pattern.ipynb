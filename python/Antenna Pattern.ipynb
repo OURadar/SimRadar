{
 "cells": [
  {
   "cell_type": "code",
   "execution_count": null,
   "metadata": {},
   "outputs": [],
   "source": [
    "%matplotlib inline"
   ]
  },
  {
   "cell_type": "code",
   "execution_count": null,
   "metadata": {},
   "outputs": [],
   "source": [
    "import matplotlib\n",
    "import matplotlib.pyplot as plt\n",
    "import numpy as np"
   ]
  },
  {
   "cell_type": "code",
   "execution_count": null,
   "metadata": {},
   "outputs": [],
   "source": [
    "f = 3.3e9\n",
    "wavelength = 3e8 / f"
   ]
  },
  {
   "cell_type": "code",
   "execution_count": null,
   "metadata": {},
   "outputs": [],
   "source": [
    "# Antenna size = 2 x 4.5 ft (0.3048 m / ft)\n",
    "antenna_width = 4.5 * 0.3048\n",
    "antenna_depth = 2.0 * 0.3048\n",
    "\n",
    "# Number of elements that can span the dimension\n",
    "ny = np.floor(antenna_depth / (0.5 * wavelength))\n",
    "nx = np.floor(antenna_width / (0.5 * wavelength))"
   ]
  },
  {
   "cell_type": "code",
   "execution_count": null,
   "metadata": {},
   "outputs": [],
   "source": [
    "x = np.arange(nx) * (0.5 * wavelength);\n",
    "y = np.arange(ny) * (0.5 * wavelength);\n",
    "x = x - x.mean()\n",
    "y = y - y.mean()\n",
    "ant_xx, ant_yy = np.meshgrid(x, y)\n",
    "\n",
    "rect_x = np.array([-1, +1, +1, -1, -1]) * 0.5 * antenna_width;\n",
    "rect_y = np.array([-1, -1, +1, +1, -1]) * 0.5 * antenna_depth;\n",
    "\n",
    "ant_xx = ant_xx.flatten()\n",
    "ant_yy = ant_yy.flatten()\n",
    "\n",
    "ant_count = len(ant_xx)"
   ]
  },
  {
   "cell_type": "code",
   "execution_count": null,
   "metadata": {},
   "outputs": [],
   "source": [
    "plt.style.use('ggplot')\n",
    "fig = plt.figure(dpi=144)\n",
    "ax = fig.add_subplot(111)\n",
    "_ = plt.plot(ant_xx, ant_yy, 'o')\n",
    "_ = plt.plot(rect_x, rect_y, '--')\n",
    "ax.set_aspect(aspect=1.0)"
   ]
  },
  {
   "cell_type": "code",
   "execution_count": null,
   "metadata": {},
   "outputs": [],
   "source": [
    "r = 200\n",
    "deg2rad = np.pi / 180.0\n",
    "rad2deg = 180.0 / np.pi\n",
    "a = np.arange(-60, 61) * deg2rad\n",
    "xa, ya = np.meshgrid(a, a)\n",
    "az = np.arctan2(xa, ya)\n",
    "el = 0.5 * np.pi - np.sqrt(xa ** 2 + ya ** 2)\n",
    "x = r * np.cos(el) * np.sin(az)\n",
    "y = r * np.cos(el) * np.cos(az)\n",
    "z = r * np.sin(el)\n",
    "src_count = len(x.flatten())"
   ]
  },
  {
   "cell_type": "code",
   "execution_count": null,
   "metadata": {},
   "outputs": [],
   "source": [
    "fig = plt.figure(figsize=(12, 6), dpi=96)\n",
    "plt.subplot(231)\n",
    "plt.pcolormesh(xa, ya, az * rad2deg)\n",
    "plt.colorbar()\n",
    "plt.subplot(232)\n",
    "plt.pcolormesh(xa, ya, el * rad2deg)\n",
    "plt.colorbar()\n",
    "plt.subplot(234)\n",
    "plt.pcolormesh(xa, ya, x)\n",
    "plt.colorbar()\n",
    "plt.subplot(235)\n",
    "plt.pcolormesh(xa, ya, y)\n",
    "plt.colorbar()\n",
    "plt.subplot(236)\n",
    "plt.pcolormesh(xa, ya, z)\n",
    "plt.colorbar()"
   ]
  },
  {
   "cell_type": "code",
   "execution_count": null,
   "metadata": {},
   "outputs": [],
   "source": [
    "src_xx = np.repeat(np.expand_dims(x, 2), ant_count, axis=2)\n",
    "src_yy = np.repeat(np.expand_dims(y, 2), ant_count, axis=2)\n",
    "src_zz = np.repeat(np.expand_dims(y, 2), ant_count, axis=2)\n",
    "ant_xxx = np.tile(np.reshape(ant_xx, (1, 1, ant_count)), (len(a), len(a), 1))\n",
    "ant_yyy = np.tile(np.reshape(ant_yy, (1, 1, ant_count)), (len(a), len(a), 1))"
   ]
  },
  {
   "cell_type": "code",
   "execution_count": null,
   "metadata": {},
   "outputs": [],
   "source": [
    "rr = np.sqrt((src_xx - ant_xxx) ** 2 + (src_yy - ant_yyy) ** 2 + src_zz ** 2)\n",
    "array_factor = 20 * np.log10(np.abs(np.exp(-2j * np.pi * rr / wavelength).sum(axis=2)))"
   ]
  },
  {
   "cell_type": "code",
   "execution_count": null,
   "metadata": {},
   "outputs": [],
   "source": [
    "plt.imshow(array_factor)\n",
    "plt.colorbar()"
   ]
  },
  {
   "cell_type": "raw",
   "metadata": {},
   "source": []
  }
 ],
 "metadata": {
  "kernelspec": {
   "display_name": "Python 3",
   "language": "python",
   "name": "python3"
  },
  "language_info": {
   "codemirror_mode": {
    "name": "ipython",
    "version": 3
   },
   "file_extension": ".py",
   "mimetype": "text/x-python",
   "name": "python",
   "nbconvert_exporter": "python",
   "pygments_lexer": "ipython3",
   "version": "3.6.5"
  }
 },
 "nbformat": 4,
 "nbformat_minor": 2
}
